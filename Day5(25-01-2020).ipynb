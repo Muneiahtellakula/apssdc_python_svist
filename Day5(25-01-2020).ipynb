{
 "cells": [
  {
   "cell_type": "code",
   "execution_count": null,
   "metadata": {},
   "outputs": [],
   "source": [
    "s = \"apssdc\"\n",
    "a-->1\n",
    "p-->1\n",
    "s-->2\n",
    "d-->1\n",
    "c-->1"
   ]
  },
  {
   "cell_type": "code",
   "execution_count": 26,
   "metadata": {},
   "outputs": [
    {
     "name": "stdout",
     "output_type": "stream",
     "text": [
      "wel\n"
     ]
    }
   ],
   "source": [
    "s = \"weeell\"\n",
    "c=\"\"\n",
    "for i in s:\n",
    "    if i not in c:\n",
    "        c += i\n",
    "for i in c:\n",
    "    print(i,'-->',s.count(i))\n",
    "    "
   ]
  },
  {
   "cell_type": "code",
   "execution_count": 27,
   "metadata": {},
   "outputs": [
    {
     "name": "stdout",
     "output_type": "stream",
     "text": [
      "l -- 1\n",
      "e -- 2\n",
      "m -- 1\n",
      "d -- 1\n",
      "a -- 1\n",
      "s -- 2\n",
      "p -- 1\n",
      "o -- 2\n",
      "c -- 2\n",
      "t -- 1\n",
      "w -- 1\n"
     ]
    }
   ],
   "source": [
    "s = \"welcometoapssdc\"\n",
    "s1 = set(s)\n",
    "for i in s1:\n",
    "    print(i,\"--\",s.count(i))"
   ]
  },
  {
   "cell_type": "code",
   "execution_count": null,
   "metadata": {},
   "outputs": [],
   "source": [
    "sub1 sub2 sub3 sub4\n",
    "50   68   97   88\n",
    "38   42   53   35\n",
    "68   97   44   98\n"
   ]
  },
  {
   "cell_type": "code",
   "execution_count": 33,
   "metadata": {},
   "outputs": [
    {
     "name": "stdout",
     "output_type": "stream",
     "text": [
      "Enter Subject1 Marks66\n",
      "Enter Subject2 Marks66\n",
      "Enter Subject3 Marks77\n",
      "Enter Subject4 Marks88\n",
      "Enter Subject1 Marks99\n",
      "Enter Subject2 Marks98\n",
      "Enter Subject3 Marks76\n",
      "Enter Subject4 Marks56\n",
      "Enter Subject1 Marks78\n",
      "Enter Subject2 Marks94\n",
      "Enter Subject3 Marks54\n",
      "Enter Subject4 Marks34\n",
      "Enter Subject1 Marks23\n",
      "Enter Subject2 Marks45\n",
      "Enter Subject3 Marks45\n",
      "Enter Subject4 Marks67\n"
     ]
    }
   ],
   "source": [
    "f = open(\"StudentsMarks.txt\",\"w\")\n",
    "f.write(\"sub1\\tsub2\\tsub3\\tsub4\")\n",
    "for i in range(4):\n",
    "    sub1 = int(input(\"Enter Subject1 Marks\"))\n",
    "    sub2 = int(input(\"Enter Subject2 Marks\"))\n",
    "    sub3 = int(input(\"Enter Subject3 Marks\"))\n",
    "    sub4 = int(input(\"Enter Subject4 Marks\"))\n",
    "    f.write('\\n'+str(sub1)+'\\t'+str(sub2)+'\\t'+str(sub3)+'\\t'+str(sub4))\n",
    "f.close()\n"
   ]
  },
  {
   "cell_type": "code",
   "execution_count": 35,
   "metadata": {},
   "outputs": [
    {
     "name": "stdout",
     "output_type": "stream",
     "text": [
      "sub1\tsub2\tsub3\tsub4\n",
      "66\t66\t77\t88\n",
      "99\t98\t76\t56\n",
      "78\t94\t54\t34\n",
      "23\t45\t45\t67\n"
     ]
    }
   ],
   "source": [
    "f = open(\"StudentsMarks.txt\",'r')\n",
    "print(f.read())"
   ]
  },
  {
   "cell_type": "code",
   "execution_count": null,
   "metadata": {},
   "outputs": [],
   "source": []
  }
 ],
 "metadata": {
  "kernelspec": {
   "display_name": "Python 3",
   "language": "python",
   "name": "python3"
  },
  "language_info": {
   "codemirror_mode": {
    "name": "ipython",
    "version": 3
   },
   "file_extension": ".py",
   "mimetype": "text/x-python",
   "name": "python",
   "nbconvert_exporter": "python",
   "pygments_lexer": "ipython3",
   "version": "3.7.4"
  }
 },
 "nbformat": 4,
 "nbformat_minor": 2
}
